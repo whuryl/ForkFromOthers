{
 "cells": [
  {
   "cell_type": "markdown",
   "source": [
    "# My first Test\n",
    "第一个测试程序"
   ],
   "metadata": {
    "collapsed": false,
    "pycharm": {
     "name": "#%% md\n"
    }
   }
  },
  {
   "cell_type": "markdown",
   "source": [
    "## 第一部分\n",
    "- Part 1.1  \n",
    "第1.1小部分内容  \n",
    "第1.1小部分内容  \n",
    "- Part 1.2  \n",
    "第1.2小部分内容  \n",
    "第1.2小部分内容  \n",
    "\n",
    "## 第二部分\n",
    "- Part 2.1\n",
    "- Part 2.2"
   ],
   "metadata": {
    "collapsed": false,
    "pycharm": {
     "name": "#%% md\n"
    }
   }
  },
  {
   "cell_type": "code",
   "execution_count": 20,
   "outputs": [
    {
     "name": "stdout",
     "text": [
      "Wed Jan 15 10:48:18 2020\n",
      "Hello\n"
     ],
     "output_type": "stream"
    }
   ],
   "source": [
    "import time\n",
    "print(time.asctime())\n",
    "print('Hello')  "
   ],
   "metadata": {
    "collapsed": false,
    "pycharm": {
     "name": "#%%\n",
     "is_executing": false
    }
   }
  },
  {
   "cell_type": "markdown",
   "source": [
    "## 第三部分"
   ],
   "metadata": {
    "collapsed": false,
    "pycharm": {
     "name": "#%% md\n"
    }
   }
  }
 ],
 "metadata": {
  "kernelspec": {
   "display_name": "Python 3",
   "language": "python",
   "name": "python3"
  },
  "language_info": {
   "codemirror_mode": {
    "name": "ipython",
    "version": 2
   },
   "file_extension": ".py",
   "mimetype": "text/x-python",
   "name": "python",
   "nbconvert_exporter": "python",
   "pygments_lexer": "ipython2",
   "version": "2.7.6"
  },
  "pycharm": {
   "stem_cell": {
    "cell_type": "raw",
    "source": [],
    "metadata": {
     "collapsed": false
    }
   }
  }
 },
 "nbformat": 4,
 "nbformat_minor": 0
}